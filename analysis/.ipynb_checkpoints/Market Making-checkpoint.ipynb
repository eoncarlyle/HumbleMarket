{
 "cells": [
  {
   "cell_type": "code",
   "execution_count": 65,
   "id": "de21b8ad",
   "metadata": {},
   "outputs": [],
   "source": [
    "class Linear:\n",
    "    def __init__(self):\n",
    "        self.bank = 500\n",
    "        self.n = 10\n",
    "        self.y = 10\n",
    "        self.k = 100\n",
    "    \n",
    "    def buyY(self, units=1):\n",
    "        self.y -= units\n",
    "        self.rebalance()\n",
    "        self.bank += self.P() * units\n",
    "        print(f\" Bank value:{self.bank}, Liability {units}CR, {round(self.P(), 2)}\")\n",
    "        \n",
    "    def buyX(self, units=1):\n",
    "        self.n -= units\n",
    "        self.rebalance()\n",
    "        self.bank += (1 - self.P()) * units\n",
    "        print(f\" Bank value:{self.bank}, Liability {units}CR, {round(1-self.P(), 2)}\")\n",
    "\n",
    "    \n",
    "    def solution(self):\n",
    "        if self.n > 2 and self.y > 2:\n",
    "            n_f = ((self.P() * self.k)/(1 - self.P())) ** 0.5\n",
    "            y_f = self.k/n_f\n",
    "            self.n = round(n_f)\n",
    "            self.y = round(y_f)\n",
    "    \n",
    "    def P(self):\n",
    "        return self.n/(self.n + self.y)\n",
    "    \n",
    "    def rebalance(self):\n",
    "        #print(f\"YES: {self.y}, NO: {self.n}, P: {round(self.P(), 2)}\")\n",
    "        #print(\"Calculating...\")\n",
    "        self.solution()\n",
    "        #print(f\"YES: {self.y}, NO: {self.n}, P: {round(self.P(), 2)}, Bank: {round(self.bank, 2)}\")\n",
    "        #print(\"\\n\\n\")\n"
   ]
  },
  {
   "cell_type": "code",
   "execution_count": 69,
   "id": "d1732a54",
   "metadata": {},
   "outputs": [
    {
     "name": "stdout",
     "output_type": "stream",
     "text": [
      " Bank value:503.3333333333333, Liability 5CR, 0.67\n",
      " Bank value:504.0952380952381, Liability 2CR, 0.38\n"
     ]
    }
   ],
   "source": [
    "linear = Linear()\n",
    "linear.buyY(5)\n",
    "linear.buyX(2)"
   ]
  },
  {
   "cell_type": "code",
   "execution_count": 72,
   "id": "ffcbd2e4",
   "metadata": {},
   "outputs": [
    {
     "data": {
      "text/plain": [
       "503.3152380952381"
      ]
     },
     "execution_count": 72,
     "metadata": {},
     "output_type": "execute_result"
    }
   ],
   "source": [
    "504.0952380952381 - 2 * 0.39"
   ]
  },
  {
   "cell_type": "code",
   "execution_count": null,
   "id": "b2dd6235",
   "metadata": {},
   "outputs": [],
   "source": []
  }
 ],
 "metadata": {
  "kernelspec": {
   "display_name": "Python 3 (ipykernel)",
   "language": "python",
   "name": "python3"
  },
  "language_info": {
   "codemirror_mode": {
    "name": "ipython",
    "version": 3
   },
   "file_extension": ".py",
   "mimetype": "text/x-python",
   "name": "python",
   "nbconvert_exporter": "python",
   "pygments_lexer": "ipython3",
   "version": "3.9.16"
  }
 },
 "nbformat": 4,
 "nbformat_minor": 5
}
