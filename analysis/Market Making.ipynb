{
 "cells": [
  {
   "cell_type": "code",
   "execution_count": 137,
   "id": "de21b8ad",
   "metadata": {},
   "outputs": [],
   "source": [
    "class Linear:\n",
    "    def __init__(self):\n",
    "        self.bank = 500\n",
    "        self.n = 10\n",
    "        self.y = 10\n",
    "        self.k = 100\n",
    "    \n",
    "    def buyY(self, units=1):\n",
    "        self.y -= units\n",
    "        self.bank += self.P() * units\n",
    "        self.rebalance()\n",
    "        #self.bank += self.P() * units\n",
    "        print(f\" Bank value:{self.bank}, Liability {units}CR, {round(self.P(), 2)}\")\n",
    "        \n",
    "    def buyN(self, units=1):\n",
    "        self.n -= units\n",
    "        self.bank += (1 - self.P()) * units\n",
    "        self.rebalance()\n",
    "        #self.bank += (1 - self.P()) * units\n",
    "        print(f\" Bank value:{self.bank}, Liability {units}CR, {round(1-self.P(), 2)}\")\n",
    "        \n",
    "    def sellY(self, units=1):\n",
    "        self.y += units\n",
    "        self.bank -= self.P() * units\n",
    "        self.rebalance()\n",
    "        #self.bank -= self.P() * units\n",
    "        print(f\" Bank value:{self.bank}\")\n",
    "\n",
    "    def sellN(self, units=1):\n",
    "        self.n += units\n",
    "        self.bank -= (1 - self.P()) * units\n",
    "        self.rebalance()\n",
    "        #self.bank -= (1 - self.P()) * units\n",
    "        print(f\" Bank value:{self.bank}\")\n",
    "        \n",
    "    def solution(self):\n",
    "        if self.n > 2 and self.y > 2:\n",
    "            n_f = ((self.P() * self.k)/(1 - self.P())) ** 0.5\n",
    "            y_f = self.k/n_f\n",
    "            self.n = round(n_f)\n",
    "            self.y = round(y_f)\n",
    "    \n",
    "    def P(self):\n",
    "        return self.n/(self.n + self.y)\n",
    "    \n",
    "    def rebalance(self):\n",
    "        #print(f\"YES: {self.y}, NO: {self.n}, P: {round(self.P(), 2)}\")\n",
    "        #print(\"Calculating...\")\n",
    "        print(round(self.P(), 2), self.n, self.y)\n",
    "        self.solution()\n",
    "        print(round(self.P(), 2), self.n, self.y)\n",
    "        #print(f\"YES: {self.y}, NO: {self.n}, P: {round(self.P(), 2)}, Bank: {round(self.bank, 2)}\")\n",
    "        #print(\"\\n\\n\")\n"
   ]
  },
  {
   "cell_type": "code",
   "execution_count": 138,
   "id": "8327e106",
   "metadata": {},
   "outputs": [
    {
     "name": "stdout",
     "output_type": "stream",
     "text": [
      "0.67 10 5\n",
      "0.67 14 7\n",
      " Bank value:503.3333333333333, Liability 5CR, 0.67\n",
      "0.5 7 7\n",
      "0.5 10 10\n",
      " Bank value:506.8333333333333, Liability 7CR, 0.5\n",
      "0.4 10 15\n",
      "0.4 8 12\n",
      " Bank value:504.8333333333333\n",
      "0.56 15 12\n",
      "0.55 11 9\n",
      " Bank value:501.72222222222223\n"
     ]
    }
   ],
   "source": [
    "linear = Linear()\n",
    "linear.buyY(5)\n",
    "linear.buyN(7)\n",
    "\n",
    "linear.sellY(5)\n",
    "linear.sellN(7)\n"
   ]
  },
  {
   "cell_type": "code",
   "execution_count": 72,
   "id": "a7768ecd",
   "metadata": {},
   "outputs": [
    {
     "data": {
      "text/plain": [
       "503.3152380952381"
      ]
     },
     "execution_count": 72,
     "metadata": {},
     "output_type": "execute_result"
    }
   ],
   "source": [
    "504.0952380952381 - 2 * 0.39"
   ]
  },
  {
   "cell_type": "code",
   "execution_count": null,
   "id": "7f86981a",
   "metadata": {},
   "outputs": [],
   "source": []
  }
 ],
 "metadata": {
  "kernelspec": {
   "display_name": "Python 3 (ipykernel)",
   "language": "python",
   "name": "python3"
  },
  "language_info": {
   "codemirror_mode": {
    "name": "ipython",
    "version": 3
   },
   "file_extension": ".py",
   "mimetype": "text/x-python",
   "name": "python",
   "nbconvert_exporter": "python",
   "pygments_lexer": "ipython3",
   "version": "3.9.16"
  }
 },
 "nbformat": 4,
 "nbformat_minor": 5
}
