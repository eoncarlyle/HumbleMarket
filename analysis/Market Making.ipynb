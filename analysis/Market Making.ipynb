{
 "cells": [
  {
   "cell_type": "code",
   "execution_count": 3,
   "id": "de21b8ad",
   "metadata": {},
   "outputs": [],
   "source": [
    "class Linear:\n",
    "    def __init__(self):\n",
    "        self.bank = 500\n",
    "        self.n = 10\n",
    "        self.y = 10\n",
    "        self.k = 100\n",
    "    \n",
    "    def buyY(self, units=1):\n",
    "        self.y -= units\n",
    "        self.bank += self.P() * units\n",
    "        self.rebalance()\n",
    "        #self.bank += self.P() * units\n",
    "        print(f\" Bank value:{self.bank}, Liability {units}CR, {round(self.P(), 2)}\")\n",
    "        \n",
    "    def buyN(self, units=1):\n",
    "        self.n -= units\n",
    "        self.bank += (1 - self.P()) * units\n",
    "        self.rebalance()\n",
    "        #self.bank += (1 - self.P()) * units\n",
    "        print(f\" Bank value:{self.bank}, Liability {units}CR, {round(1-self.P(), 2)}\")\n",
    "        \n",
    "    def sellY(self, units=1):\n",
    "        self.y += units\n",
    "        self.bank -= self.P() * units\n",
    "        self.rebalance()\n",
    "        #self.bank -= self.P() * units\n",
    "        print(f\" Bank value:{self.bank}\")\n",
    "\n",
    "    def sellN(self, units=1):\n",
    "        self.n += units\n",
    "        self.bank -= (1 - self.P()) * units\n",
    "        self.rebalance()\n",
    "        #self.bank -= (1 - self.P()) * units\n",
    "        print(f\" Bank value:{self.bank}\")\n",
    "        \n",
    "    def solution(self):\n",
    "        if self.n > 2 and self.y > 2:\n",
    "            n_f = ((self.P() * self.k)/(1 - self.P())) ** 0.5\n",
    "            y_f = self.k/n_f\n",
    "            self.n = round(n_f)\n",
    "            self.y = round(y_f)\n",
    "    \n",
    "    def P(self):\n",
    "        return self.n/(self.n + self.y)\n",
    "    \n",
    "    def rebalance(self):\n",
    "        #print(f\"YES: {self.y}, NO: {self.n}, P: {round(self.P(), 2)}\")\n",
    "        #print(\"Calculating...\")\n",
    "        print(round(self.P(), 2), self.n, self.y)\n",
    "        self.solution()\n",
    "        print(round(self.P(), 2), self.n, self.y)\n",
    "        #print(f\"YES: {self.y}, NO: {self.n}, P: {round(self.P(), 2)}, Bank: {round(self.bank, 2)}\")\n",
    "        #print(\"\\n\\n\")\n"
   ]
  },
  {
   "cell_type": "code",
   "execution_count": 5,
   "id": "8327e106",
   "metadata": {
    "scrolled": true
   },
   "outputs": [
    {
     "name": "stdout",
     "output_type": "stream",
     "text": [
      "0.91 10 1\n",
      "0.91 10 1\n",
      " Bank value:508.1818181818182, Liability 9CR, 0.91\n",
      "5.0 10 -8\n",
      "5.0 10 -8\n",
      " Bank value:553.1818181818182, Liability 9CR, 5.0\n"
     ]
    }
   ],
   "source": [
    "linear = Linear()\n",
    "linear.buyY(9)"
   ]
  },
  {
   "cell_type": "code",
   "execution_count": 5,
   "id": "1e8dc27d",
   "metadata": {},
   "outputs": [
    {
     "data": {
      "text/plain": [
       "499.99833333333333"
      ]
     },
     "execution_count": 5,
     "metadata": {},
     "output_type": "execute_result"
    }
   ],
   "source": []
  },
  {
   "cell_type": "code",
   "execution_count": null,
   "id": "50effebe",
   "metadata": {},
   "outputs": [],
   "source": []
  }
 ],
 "metadata": {
  "kernelspec": {
   "display_name": "Python 3 (ipykernel)",
   "language": "python",
   "name": "python3"
  },
  "language_info": {
   "codemirror_mode": {
    "name": "ipython",
    "version": 3
   },
   "file_extension": ".py",
   "mimetype": "text/x-python",
   "name": "python",
   "nbconvert_exporter": "python",
   "pygments_lexer": "ipython3",
   "version": "3.9.16"
  }
 },
 "nbformat": 4,
 "nbformat_minor": 5
}
